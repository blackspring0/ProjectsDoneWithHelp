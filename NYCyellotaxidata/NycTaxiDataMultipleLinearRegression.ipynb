{
  "nbformat": 4,
  "nbformat_minor": 0,
  "metadata": {
    "colab": {
      "provenance": []
    },
    "kernelspec": {
      "name": "python3",
      "display_name": "Python 3"
    },
    "language_info": {
      "name": "python"
    }
  },
  "cells": [
    {
      "cell_type": "code",
      "source": [
        "# Imports\n",
        "# Packages for numerics + dataframes\n",
        "import pandas as pd\n",
        "import numpy as np\n",
        "\n",
        "# Packages for visualization\n",
        "import matplotlib.pyplot as plt\n",
        "import seaborn as sns\n",
        "\n",
        "# Packages for date conversions for calculating trip durations\n",
        "from datetime import datetime\n",
        "from datetime import date\n",
        "from datetime import timedelta\n",
        "\n",
        "# Packages for OLS, MLR, confusion matrix\n",
        "from sklearn.preprocessing import StandardScaler\n",
        "from sklearn.model_selection import train_test_split\n",
        "import sklearn.metrics as metrics # For confusion matrix\n",
        "from sklearn.linear_model import LinearRegression\n",
        "from sklearn.metrics import mean_absolute_error,r2_score,mean_squared_error"
      ],
      "metadata": {
        "id": "jLLz8k92L4Q_"
      },
      "execution_count": null,
      "outputs": []
    },
    {
      "cell_type": "code",
      "source": [
        "import requests\n",
        "app_token='YOUR TOKEN'\n",
        "url = f'https://data.cityofnewyork.us/resource/biws-g3hs.json?$$app_token={app_token}'\n",
        "response = requests.get(url)\n",
        "data = response.json()\n"
      ],
      "metadata": {
        "id": "YggxhQ6DG9SC"
      },
      "execution_count": null,
      "outputs": []
    },
    {
      "cell_type": "code",
      "source": [
        "df0= pd.DataFrame(data)\n",
        "df=df0.copy()"
      ],
      "metadata": {
        "id": "hqWTq2QnEnnE"
      },
      "execution_count": null,
      "outputs": []
    },
    {
      "cell_type": "code",
      "source": [
        "df.shape"
      ],
      "metadata": {
        "id": "WdZuWFyaIyCk"
      },
      "execution_count": null,
      "outputs": []
    },
    {
      "cell_type": "code",
      "source": [
        "df.drop_duplicates().shape"
      ],
      "metadata": {
        "id": "dyIQ1mZkMfyh"
      },
      "execution_count": null,
      "outputs": []
    },
    {
      "cell_type": "code",
      "source": [
        "df.isnull().sum()"
      ],
      "metadata": {
        "id": "XupCeH1wM9ID"
      },
      "execution_count": null,
      "outputs": []
    },
    {
      "cell_type": "code",
      "source": [
        "df.head()"
      ],
      "metadata": {
        "id": "hQ80lVtoNB4u"
      },
      "execution_count": null,
      "outputs": []
    },
    {
      "cell_type": "code",
      "source": [
        "df['tpep_dropoff_datetime'][3]"
      ],
      "metadata": {
        "id": "hs_QS1THNE-4"
      },
      "execution_count": null,
      "outputs": []
    },
    {
      "cell_type": "code",
      "source": [
        "df['tpep_dropoff_datetime'].dtype"
      ],
      "metadata": {
        "id": "r7GQFl-INOjU"
      },
      "execution_count": null,
      "outputs": []
    },
    {
      "cell_type": "code",
      "source": [
        "df['tpep_dropoff_datetime'] = pd.to_datetime(df['tpep_dropoff_datetime'])\n",
        "df['tpep_pickup_datetime'] = pd.to_datetime(df['tpep_pickup_datetime'])"
      ],
      "metadata": {
        "id": "SKL6PSXtO-rz"
      },
      "execution_count": null,
      "outputs": []
    },
    {
      "cell_type": "code",
      "source": [
        "df['duration'] = (df['tpep_dropoff_datetime'] - df['tpep_pickup_datetime'])/np.timedelta64(1,'m')\n"
      ],
      "metadata": {
        "id": "3K9Nf9FSPO3N"
      },
      "execution_count": null,
      "outputs": []
    },
    {
      "cell_type": "code",
      "source": [
        "df.info()\n"
      ],
      "metadata": {
        "id": "Ai-crj-zRD9R"
      },
      "execution_count": null,
      "outputs": []
    },
    {
      "cell_type": "code",
      "source": [
        "columns=['vendorid','pulocationid','dolocationid']\n",
        "for x in columns:\n",
        "  df[x] = df[x].astype(int)\n",
        "columns=['trip_distance','fare_amount']\n",
        "for x in columns:\n",
        "  df[x] = df[x].astype(float)\n",
        "\n",
        "\n"
      ],
      "metadata": {
        "id": "HpAtqcDnRGiu"
      },
      "execution_count": null,
      "outputs": []
    },
    {
      "cell_type": "code",
      "source": [
        "df.info()\n"
      ],
      "metadata": {
        "id": "wcw7Bv8bSQpi"
      },
      "execution_count": null,
      "outputs": []
    },
    {
      "cell_type": "code",
      "source": [
        "fig,axes = plt.subplots(1,3,figsize=(15,2))\n",
        "fig.suptitle('Boxplots for outlier detection')\n",
        "sns.boxplot(ax=axes[0],x=df['trip_distance'])\n",
        "sns.boxplot(ax=axes[1], x=df['fare_amount'])\n",
        "sns.boxplot(ax=axes[2], x=df['duration'])\n",
        "plt.show();"
      ],
      "metadata": {
        "id": "P7vEY-O1S53s"
      },
      "execution_count": null,
      "outputs": []
    },
    {
      "cell_type": "markdown",
      "source": [
        "Fare amount outliers"
      ],
      "metadata": {
        "id": "6vRAase_VumF"
      }
    },
    {
      "cell_type": "code",
      "source": [
        "def outlier_imputer(col,iqr_factor):\n",
        "    df.loc[df['fare_amount']<0] =0\n",
        "    q1=df[col].quantile(0.25)\n",
        "    q3=df[col].quantile(0.75)\n",
        "    iqr=q3-q1\n",
        "    upper_threshold = q3 + (iqr_factor * iqr)\n",
        "    df.loc[df[col] > upper_threshold, col] = upper_threshold\n",
        "    print(df[col].describe())\n",
        "outlier_imputer('fare_amount',6)"
      ],
      "metadata": {
        "id": "nvg9wQ1JT5-L"
      },
      "execution_count": null,
      "outputs": []
    },
    {
      "cell_type": "markdown",
      "source": [
        "duration outliers\n"
      ],
      "metadata": {
        "id": "9ur0SzWbVxm0"
      }
    },
    {
      "cell_type": "code",
      "source": [
        "outlier_imputer('duration',6)"
      ],
      "metadata": {
        "id": "T0ZcEmgWV0rC"
      },
      "execution_count": null,
      "outputs": []
    },
    {
      "cell_type": "code",
      "source": [
        "df['pickup_dropoff'] = df['pulocationid'].astype(str)+' '+df['dolocationid'].astype(str)\n",
        "df['pickup_dropoff'].head()"
      ],
      "metadata": {
        "id": "PAlPDhXKV6aI"
      },
      "execution_count": null,
      "outputs": []
    },
    {
      "cell_type": "markdown",
      "source": [
        "Mean distance"
      ],
      "metadata": {
        "id": "mgqwE_MoZTfF"
      }
    },
    {
      "cell_type": "code",
      "source": [
        "grouped = df.groupby('pickup_dropoff').mean()[['trip_distance']]\n",
        "grouped[:5]\n",
        "df.drop(df[df['vendorid'] == 0].index, inplace=True)\n",
        "grouped_dict = grouped.to_dict()\n",
        "grouped_dict = grouped_dict['trip_distance']\n",
        "df['mean_distance'] = df['pickup_dropoff']\n",
        "\n",
        "\n",
        "df['mean_distance'] = df['mean_distance'].map(grouped_dict)\n",
        "\n",
        "df[(df['pulocationid']==100) & (df['dolocationid']==148)][['mean_distance']]"
      ],
      "metadata": {
        "id": "5p3FXIy6YLSi"
      },
      "execution_count": null,
      "outputs": []
    },
    {
      "cell_type": "markdown",
      "source": [
        "Mean Duration"
      ],
      "metadata": {
        "id": "N15fMIh0ZU-F"
      }
    },
    {
      "cell_type": "code",
      "source": [
        "grouped = df.groupby('pickup_dropoff').mean()[['duration']]\n",
        "grouped_dict = grouped.to_dict()\n",
        "grouped_dict = grouped_dict['duration']\n",
        "\n",
        "df['mean_duration'] = df['pickup_dropoff']\n",
        "df['mean_duration'] = df['mean_duration'].map(grouped_dict)\n",
        "\n",
        "# Confirm that it worked\n",
        "df[(df['pulocationid']==100) & (df['dolocationid']==148)][['mean_duration']]"
      ],
      "metadata": {
        "id": "E-3KKOgUYpyO"
      },
      "execution_count": null,
      "outputs": []
    },
    {
      "cell_type": "markdown",
      "source": [
        "Create day and month columns"
      ],
      "metadata": {
        "id": "TlU3vVQiaSyA"
      }
    },
    {
      "cell_type": "code",
      "source": [
        "df['day'] = df['tpep_pickup_datetime'].dt.day_name().str.lower()\n",
        "df['month'] = df['tpep_pickup_datetime'].dt.strftime('%b').str.lower()\n",
        "df.head()"
      ],
      "metadata": {
        "id": "r77H1ZxyZfx5"
      },
      "execution_count": null,
      "outputs": []
    },
    {
      "cell_type": "code",
      "source": [
        "df['tpep_pickup_datetime'].value_counts()"
      ],
      "metadata": {
        "id": "cy4DBzzJj66S"
      },
      "execution_count": null,
      "outputs": []
    },
    {
      "cell_type": "markdown",
      "source": [
        "Create rush_hour column"
      ],
      "metadata": {
        "id": "VMAw7qGDdtE6"
      }
    },
    {
      "cell_type": "code",
      "source": [
        "df['rush_hour'] = df['tpep_pickup_datetime'].dt.hour\n",
        "df.loc[df['day'].isin(['Saturday','Sunday']),'rush_hour'] = 0"
      ],
      "metadata": {
        "id": "oJblD5QsaVvt"
      },
      "execution_count": null,
      "outputs": []
    },
    {
      "cell_type": "code",
      "source": [
        "def rush_hourizer(row):\n",
        "    if 6<=row['rush_hour'] < 10:\n",
        "        val=1\n",
        "    elif 16<=row['rush_hour']<20:\n",
        "        val=1\n",
        "    else:\n",
        "        val = 0\n",
        "    return val\n",
        "df['rush_hour'] = df.apply(rush_hourizer,axis=1)\n",
        "df.head()"
      ],
      "metadata": {
        "id": "dmwmRlITc2Gu"
      },
      "execution_count": null,
      "outputs": []
    },
    {
      "cell_type": "code",
      "source": [
        "df['day'].value_counts()"
      ],
      "metadata": {
        "id": "8H6SPewljmLR"
      },
      "execution_count": null,
      "outputs": []
    },
    {
      "cell_type": "markdown",
      "source": [
        "Scatter plot"
      ],
      "metadata": {
        "id": "AoKVKIazerPs"
      }
    },
    {
      "cell_type": "code",
      "source": [
        "sns.set(style='whitegrid')\n",
        "f = plt.figure()\n",
        "f.set_figwidth(5)\n",
        "f.set_figheight(5)\n",
        "sns.regplot(x=df['mean_duration'], y=df['fare_amount'],\n",
        "            scatter_kws={'alpha':0.5, 's':5},\n",
        "            line_kws={'color':'red'})\n",
        "plt.ylim(0, 70)\n",
        "plt.xlim(0, 70)\n",
        "plt.title('Mean duration x fare amount')\n",
        "plt.show()"
      ],
      "metadata": {
        "id": "EFSQ_MQoeNpu"
      },
      "execution_count": null,
      "outputs": []
    },
    {
      "cell_type": "markdown",
      "source": [
        "The mean_duration variable correlates with the target variable.\n",
        "But what is the horizontal line around fare amount of 52 dollar?\n",
        "Check the value of the ride in the horizontal line in the scatter plot."
      ],
      "metadata": {
        "id": "dhJ-5WKafJ8U"
      }
    },
    {
      "cell_type": "code",
      "source": [
        "df[df['fare_amount']==52].head(32)"
      ],
      "metadata": {
        "id": "rOzkukWcfphd"
      },
      "execution_count": null,
      "outputs": []
    },
    {
      "cell_type": "markdown",
      "source": [
        "It seems that almost all of the trips in the first 30 rows where the fare amount was $52 either begin or end at location 132, and all of them have a RatecodeID of 2.\n",
        "\n",
        "There is no readily apparent reason why PULocation 132 should have so many fares of 52 dollars. They seem to occur on all different days, at different times, with both vendors, in all months. However, there are many toll amounts of\n",
        "5.54. This would seem to indicate that location 132 is in an area that frequently requires tolls to get to and from. It's likely this is an airport.\n",
        "\n",
        "The data dictionary says that RatecodeID of 2 indicates trips for JFK, which is John F. Kennedy International Airport. A quick Google search for \"new york city taxi flat rate $52\" indicates that in 2017 (the year that this data was collected) there was indeed a flat fare for taxi trips between JFK airport (in Queens) and Manhattan"
      ],
      "metadata": {
        "id": "AQvCevCfhKLp"
      }
    },
    {
      "cell_type": "code",
      "source": [
        "df2 = df.copy()\n",
        "\n",
        "df2 = df2.drop(['tpep_dropoff_datetime', 'tpep_pickup_datetime',\n",
        "               'trip_distance', 'ratecodeid', 'store_and_fwd_flag', 'pulocationid', 'dolocationid',\n",
        "               'payment_type', 'extra', 'mta_tax', 'tip_amount', 'tolls_amount', 'improvement_surcharge',\n",
        "               'total_amount', 'tpep_dropoff_datetime', 'tpep_pickup_datetime', 'duration',\n",
        "               'pickup_dropoff', 'day', 'month','rush_hour'\n",
        "               ], axis=1)\n",
        "df2.info()"
      ],
      "metadata": {
        "id": "UyylPCqRhM2Q"
      },
      "execution_count": null,
      "outputs": []
    },
    {
      "cell_type": "code",
      "source": [
        "df2['passenger_count']=df2['passenger_count'].astype(int)"
      ],
      "metadata": {
        "id": "QInYA_PYhRe7"
      },
      "execution_count": null,
      "outputs": []
    },
    {
      "cell_type": "code",
      "source": [
        "df2.info()\n"
      ],
      "metadata": {
        "id": "KBZhO67Ri1VU"
      },
      "execution_count": null,
      "outputs": []
    },
    {
      "cell_type": "code",
      "source": [
        "sns.pairplot(df2[['fare_amount','mean_duration','mean_distance']],plot_kws={'alpha':0.4, 'size':5})"
      ],
      "metadata": {
        "id": "iOm7HpsSi6Lm"
      },
      "execution_count": null,
      "outputs": []
    },
    {
      "cell_type": "code",
      "source": [
        "df2.corr(method='pearson')"
      ],
      "metadata": {
        "id": "GeBaNaLMjAYY"
      },
      "execution_count": null,
      "outputs": []
    },
    {
      "cell_type": "code",
      "source": [
        "plt.figure(figsize=(6,4))\n",
        "sns.heatmap(df2.corr(method='pearson'), annot=True, cmap='Reds')\n",
        "plt.title('Correlation heatmap',\n",
        "          fontsize=18)\n",
        "plt.show()"
      ],
      "metadata": {
        "id": "4XFLGzyYjWH4"
      },
      "execution_count": null,
      "outputs": []
    },
    {
      "cell_type": "markdown",
      "source": [
        "mean_duration and mean_distance are both highly correlated with the target variable of fare_amount They're also both correlated with each other, with a Pearson correlation of 0.87.\n",
        "\n",
        "Recall that highly correlated predictor variables can be bad for linear regression models when you want to be able to draw statistical inferences about the data from the model. However, correlated predictor variables can still be used to create an accurate predictor if the prediction itself is more important than using the model as a tool to learn about your data.\n",
        "\n",
        "This model will predict fare_amount, which will be used as a predictor variable in machine learning models. Therefore, try modeling with both variables even though they are correlated."
      ],
      "metadata": {
        "id": "pPAslUdmko0N"
      }
    },
    {
      "cell_type": "markdown",
      "source": [
        "**Split data into outcome variable and features**\n",
        "\n",
        "\n"
      ],
      "metadata": {
        "id": "EapNdw46krxV"
      }
    },
    {
      "cell_type": "code",
      "source": [
        "\n",
        "X = df2.drop(columns='fare_amount')\n",
        "y=df2[['fare_amount']]\n",
        "\n",
        "X.head()"
      ],
      "metadata": {
        "id": "jZyTTjpIkM6Z"
      },
      "execution_count": null,
      "outputs": []
    },
    {
      "cell_type": "code",
      "source": [
        "X['vendorid'] = X['vendorid'].astype(str)\n",
        "X = pd.get_dummies(X,drop_first=True)\n",
        "X.head()"
      ],
      "metadata": {
        "id": "MQODx-mWk0Qy"
      },
      "execution_count": null,
      "outputs": []
    },
    {
      "cell_type": "markdown",
      "source": [
        "**Normalize the data**\n"
      ],
      "metadata": {
        "id": "DgSWtnJkmat1"
      }
    },
    {
      "cell_type": "code",
      "source": [
        "scaler = StandardScaler()\n",
        "X_scaled = scaler.fit_transform(X)"
      ],
      "metadata": {
        "id": "_QdF9Og3ljHi"
      },
      "execution_count": null,
      "outputs": []
    },
    {
      "cell_type": "markdown",
      "source": [
        "**Split data into training and test sets**"
      ],
      "metadata": {
        "id": "1tc5ol2tmcGl"
      }
    },
    {
      "cell_type": "code",
      "source": [
        "X_train, X_test, y_train, y_test = train_test_split(X_scaled, y, test_size=0.2, random_state=0)\n",
        "\n",
        "lr = LinearRegression()\n",
        "lr.fit(X_train,y_train)"
      ],
      "metadata": {
        "id": "6D_5-lQKmJes"
      },
      "execution_count": null,
      "outputs": []
    },
    {
      "cell_type": "markdown",
      "source": [
        "**Train data**\n"
      ],
      "metadata": {
        "id": "A6u7T8xgmeXh"
      }
    },
    {
      "cell_type": "code",
      "source": [
        "\n",
        "r_sq_train = lr.score(X_train,y_train)\n",
        "print('Coefficient of determination:', r_sq_train)\n",
        "y_pred_train = lr.predict(X_train)\n",
        "print('R^2:', r2_score(y_train, y_pred_train))\n",
        "print('MAE:', mean_absolute_error(y_train, y_pred_train))\n",
        "print('MSE:', mean_squared_error(y_train, y_pred_train))\n",
        "print('RMSE:',np.sqrt(mean_squared_error(y_train, y_pred_train)))"
      ],
      "metadata": {
        "id": "tq4J59B_mLkJ"
      },
      "execution_count": null,
      "outputs": []
    },
    {
      "cell_type": "markdown",
      "source": [
        "**Test data**"
      ],
      "metadata": {
        "id": "xcjbfJOEmhWw"
      }
    },
    {
      "cell_type": "code",
      "source": [
        "r_sq_test = lr.score(X_test, y_test)\n",
        "print('Coefficient of determination:', r_sq_test)\n",
        "y_pred_test = lr.predict(X_test)\n",
        "print('R^2:', r2_score(y_test, y_pred_test))\n",
        "print('MAE:', mean_absolute_error(y_test,y_pred_test))\n",
        "print('MSE:', mean_squared_error(y_test, y_pred_test))\n",
        "print('RMSE:',np.sqrt(mean_squared_error(y_test, y_pred_test)))"
      ],
      "metadata": {
        "id": "L0qB6u_JmNgq"
      },
      "execution_count": null,
      "outputs": []
    },
    {
      "cell_type": "markdown",
      "source": [
        "**Results**"
      ],
      "metadata": {
        "id": "KhCbNRmPnbGI"
      }
    },
    {
      "cell_type": "code",
      "source": [
        "results = pd.DataFrame(data={'actual': y_test['fare_amount'],\n",
        "                             'predicted': y_pred_test.ravel()})\n",
        "results['residual'] = results['actual'] - results['predicted']\n",
        "results.head()"
      ],
      "metadata": {
        "id": "7oA3Ku_5mTtN"
      },
      "execution_count": null,
      "outputs": []
    },
    {
      "cell_type": "code",
      "source": [
        "fig, ax = plt.subplots(figsize=(6, 6))\n",
        "sns.set(style='whitegrid')\n",
        "sns.scatterplot(x='actual',\n",
        "                y='predicted',\n",
        "                data=results,\n",
        "                s=20,\n",
        "                alpha=0.5,\n",
        "                ax=ax\n",
        ")\n",
        "plt.plot([0,60], [0,60], c='red', linewidth=2)\n",
        "plt.title('Actual vs. predicted');"
      ],
      "metadata": {
        "id": "xboZvjtvnds8"
      },
      "execution_count": null,
      "outputs": []
    },
    {
      "cell_type": "code",
      "source": [
        "sns.histplot(results['residual'], bins=np.arange(-15,15.5,0.5))\n",
        "plt.title('Distribution of the residuals')\n",
        "plt.xlabel('residual value')\n",
        "plt.ylabel('count');"
      ],
      "metadata": {
        "id": "83to6p33nvRD"
      },
      "execution_count": null,
      "outputs": []
    },
    {
      "cell_type": "code",
      "source": [
        "sns.scatterplot(x='predicted', y='residual', data=results)\n",
        "plt.axhline(0, c='red')\n",
        "plt.title('Scatterplot of residuals over predicted values')\n",
        "plt.xlabel('predicted value')\n",
        "plt.ylabel('residual value')\n",
        "plt.show()"
      ],
      "metadata": {
        "id": "7wzF9SAznzXK"
      },
      "execution_count": null,
      "outputs": []
    },
    {
      "cell_type": "code",
      "source": [
        "coefficients = pd.DataFrame(lr.coef_, columns=X.columns)\n",
        "coefficients"
      ],
      "metadata": {
        "id": "VGk6EQzkn3GH"
      },
      "execution_count": null,
      "outputs": []
    },
    {
      "cell_type": "markdown",
      "source": [
        "The coefficients reveal that mean_distance was the feature with the greatest weight in the model's final prediction. For every mile traveled, the fare amount increases by a mean of $6.8. Note, however, that because some highly correlated features were not removed, the confidence interval of this assessment is wider."
      ],
      "metadata": {
        "id": "ky64dCZyog9w"
      }
    }
  ]
}