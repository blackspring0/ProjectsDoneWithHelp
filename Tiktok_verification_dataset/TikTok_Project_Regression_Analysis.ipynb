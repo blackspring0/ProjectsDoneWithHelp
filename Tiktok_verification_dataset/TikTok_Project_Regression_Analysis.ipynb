{
  "cells": [
    {
      "cell_type": "markdown",
      "metadata": {
        "id": "DtNBZFHO3M7n"
      },
      "source": [
        "# **TikTok Project**\n",
        "**Course 5 - Regression Analysis: Simplify complex data relationships**"
      ]
    },
    {
      "cell_type": "markdown",
      "metadata": {
        "id": "Gd59VyT2NhgK"
      },
      "source": [
        "You are a data professional at TikTok. The data team is working towards building a machine learning model that can be used to determine whether a video contains a claim or whether it offers an opinion. With a successful prediction model, TikTok can reduce the backlog of user reports and prioritize them more efficiently.\n",
        "\n",
        "The team is getting closer to completing the project, having completed an initial plan of action, initial Python coding work, EDA, and hypothesis testing.\n",
        "\n",
        "The TikTok team has reviewed the results of the hypothesis testing. TikTok’s Operations Lead, Maika Abadi, is interested in how different variables are associated with whether a user is verified. Earlier, the data team observed that if a user is verified, they are much more likely to post opinions. Now, the data team has decided to explore how to predict verified status to help them understand how video characteristics relate to verified users. Therefore, you have been asked to conduct a logistic regression using verified status as the outcome variable. The results may be used to inform the final model related to predicting whether a video is a claim vs an opinion.\n",
        "\n",
        "A notebook was structured and prepared to help you in this project. Please complete the following questions."
      ]
    },
    {
      "cell_type": "markdown",
      "metadata": {
        "id": "rgSbVJvomcVa"
      },
      "source": [
        "# **Course 5 End-of-course project: Regression modeling**\n",
        "\n",
        "\n",
        "In this activity, you will build a logistic regression model in Python. As you have learned, logistic regression helps you estimate the probability of an outcome. For data science professionals, this is a useful skill because it allows you to consider more than one variable against the variable you're measuring against. This opens the door for much more thorough and flexible analysis to be completed.\n",
        "\n",
        "<br/>\n",
        "\n",
        "**The purpose** of this project is to demostrate knowledge of EDA and regression models.\n",
        "\n",
        "**The goal** is to build a logistic regression model and evaluate the model.\n",
        "<br/>\n",
        "*This activity has three parts:*\n",
        "\n",
        "**Part 1:** EDA & Checking Model Assumptions\n",
        "* What are some purposes of EDA before constructing a logistic regression model?\n",
        "\n",
        "**Part 2:** Model Building and Evaluation\n",
        "* What resources do you find yourself using as you complete this stage?\n",
        "\n",
        "**Part 3:** Interpreting Model Results\n",
        "\n",
        "* What key insights emerged from your model(s)?\n",
        "\n",
        "* What business recommendations do you propose based on the models built?\n",
        "\n",
        "Follow the instructions and answer the question below to complete the activity. Then, you will complete an executive summary using the questions listed on the PACE Strategy Document.\n",
        "\n",
        "Be sure to complete this activity before moving on. The next course item will provide you with a completed exemplar to compare to your own work.\n"
      ]
    },
    {
      "cell_type": "markdown",
      "metadata": {
        "id": "7KFOyc3JPSiN"
      },
      "source": [
        "# **Build a regression model**"
      ]
    },
    {
      "cell_type": "markdown",
      "metadata": {
        "id": "3UCHQclzQDUL"
      },
      "source": [
        "<img src=\"images/Pace.png\" width=\"100\" height=\"100\" align=left>\n",
        "\n",
        "# **PACE stages**"
      ]
    },
    {
      "cell_type": "markdown",
      "metadata": {
        "id": "VJfAWkcilRVx"
      },
      "source": [
        "Throughout these project notebooks, you'll see references to the problem-solving framework PACE. The following notebook components are labeled with the respective PACE stage: Plan, Analyze, Construct, and Execute."
      ]
    },
    {
      "cell_type": "markdown",
      "metadata": {
        "id": "F5O5cx_qQJmX"
      },
      "source": [
        "<img src=\"images/Plan.png\" width=\"100\" height=\"100\" align=left>\n",
        "\n",
        "\n",
        "## **PACE: Plan**\n",
        "Consider the questions in your PACE Strategy Document to reflect on the Plan stage."
      ]
    },
    {
      "cell_type": "markdown",
      "metadata": {
        "id": "D8qYlvkLQsf2"
      },
      "source": [
        "### **Task 1. Imports and loading**\n",
        "Import the data and packages that you've learned are needed for building regression models."
      ]
    },
    {
      "cell_type": "code",
      "execution_count": null,
      "metadata": {
        "id": "tCni9wAGphb0"
      },
      "outputs": [],
      "source": [
        "# Import packages for data manipulation\n",
        "import pandas as pd\n",
        "import numpy as np\n",
        "\n",
        "# Import packages for data visualization\n",
        "import matplotlib.pyplot as plt\n",
        "import seaborn as sns\n",
        "\n",
        "# Import packages for data preprocessing\n",
        "from sklearn.preprocessing import OneHotEncoder\n",
        "from sklearn.feature_extraction.text import CountVectorizer, TfidfVectorizer\n",
        "from sklearn.utils import resample\n",
        "\n",
        "# Import packages for data modeling\n",
        "from sklearn.model_selection import train_test_split\n",
        "from sklearn.linear_model import LogisticRegression\n",
        "from sklearn.metrics import classification_report\n",
        "from sklearn.metrics import confusion_matrix, ConfusionMatrixDisplay\n",
        "from sklearn.preprocessing import LabelEncoder\n"
      ]
    },
    {
      "cell_type": "markdown",
      "metadata": {
        "id": "LjljvyG32kqe"
      },
      "source": [
        "Load the TikTok dataset.\n",
        "\n",
        "**Note:** As shown in this cell, the dataset has been automatically loaded in for you. You do not need to download the .csv file, or provide more code, in order to access the dataset and proceed with this lab. Please continue with this activity by completing the following instructions."
      ]
    },
    {
      "cell_type": "code",
      "execution_count": null,
      "metadata": {
        "id": "C9ODhaOppqlw"
      },
      "outputs": [],
      "source": [
        "# Load dataset into dataframe\n",
        "data = pd.read_csv(\"/content/tiktok_dataset.csv\")"
      ]
    },
    {
      "cell_type": "markdown",
      "metadata": {
        "id": "OnrvCSfHUWPv"
      },
      "source": [
        "<img src=\"images/Analyze.png\" width=\"100\" height=\"100\" align=left>\n",
        "\n",
        "## **PACE: Analyze**\n",
        "\n",
        "Consider the questions in your PACE Strategy Document to reflect on the Analyze stage.\n",
        "\n",
        "In this stage, consider the following question where applicable to complete your code response:\n",
        "\n",
        "* What are some purposes of EDA before constructing a logistic regression model?\n"
      ]
    },
    {
      "cell_type": "markdown",
      "metadata": {
        "id": "FZA0zpCSpYIL"
      },
      "source": [
        "==> ENTER YOUR RESPONSE HERE"
      ]
    },
    {
      "cell_type": "markdown",
      "metadata": {
        "id": "rIcDG2e66wt9"
      },
      "source": [
        "### **Task 2a. Explore data with EDA**\n",
        "\n",
        "Analyze the data and check for and handle missing values and duplicates."
      ]
    },
    {
      "cell_type": "markdown",
      "metadata": {
        "id": "JBHl90JIRuXk"
      },
      "source": [
        "Inspect the first five rows of the dataframe."
      ]
    },
    {
      "cell_type": "code",
      "execution_count": null,
      "metadata": {
        "id": "2rfk95MLp4a_"
      },
      "outputs": [],
      "source": [
        "# Display first few rows\n",
        "### YOUR CODE HERE ###\n",
        "data.head()"
      ]
    },
    {
      "cell_type": "markdown",
      "metadata": {
        "id": "66KOxKCx977b"
      },
      "source": [
        "Get the number of rows and columns in the dataset."
      ]
    },
    {
      "cell_type": "code",
      "execution_count": null,
      "metadata": {
        "id": "kYwW-G1WqX3R"
      },
      "outputs": [],
      "source": [
        "# Get number of rows and columns\n",
        "### YOUR CODE HERE ###\n",
        "data.shape"
      ]
    },
    {
      "cell_type": "markdown",
      "metadata": {
        "id": "aP-NbEGdEio8"
      },
      "source": [
        "Get the data types of the columns."
      ]
    },
    {
      "cell_type": "code",
      "execution_count": null,
      "metadata": {
        "id": "rbpDgrXfEoVj"
      },
      "outputs": [],
      "source": [
        "# Get data types of columns\n",
        "### YOUR CODE HERE ###\n",
        "data.info()"
      ]
    },
    {
      "cell_type": "markdown",
      "metadata": {
        "id": "URuRVjUZ_Axg"
      },
      "source": [
        "Get basic information about the dataset."
      ]
    },
    {
      "cell_type": "code",
      "execution_count": null,
      "metadata": {
        "id": "zyyKCGzCp7SS"
      },
      "outputs": [],
      "source": [
        "# Get basic information\n",
        "### YOUR CODE HERE ###\n"
      ]
    },
    {
      "cell_type": "markdown",
      "metadata": {
        "id": "0T5Ieb6WB61Q"
      },
      "source": [
        "Generate basic descriptive statistics about the dataset."
      ]
    },
    {
      "cell_type": "code",
      "execution_count": null,
      "metadata": {
        "id": "HbpuAS2UqY01"
      },
      "outputs": [],
      "source": [
        "# Generate basic descriptive stats\n",
        "### YOUR CODE HERE ###\n",
        "data.describe()"
      ]
    },
    {
      "cell_type": "markdown",
      "metadata": {
        "id": "9OpeNQDdyIT6"
      },
      "source": [
        "Check for and handle missing values."
      ]
    },
    {
      "cell_type": "code",
      "execution_count": null,
      "metadata": {
        "id": "BrunHcfa7xnT"
      },
      "outputs": [],
      "source": [
        "# Check for missing values\n",
        "### YOUR CODE HERE ###\n",
        "data.isnull().sum()"
      ]
    },
    {
      "cell_type": "code",
      "execution_count": null,
      "metadata": {
        "id": "SHSj1Hma914I"
      },
      "outputs": [],
      "source": [
        "# Drop rows with missing values\n",
        "### YOUR CODE HERE ###\n",
        "data = data.dropna(axis = 0).reset_index(drop=True)"
      ]
    },
    {
      "cell_type": "code",
      "execution_count": null,
      "metadata": {
        "id": "ZYUF3xap9_Fa"
      },
      "outputs": [],
      "source": [
        "# Display first few rows after handling missing values\n",
        "### YOUR CODE HERE ###\n",
        "data.head()"
      ]
    },
    {
      "cell_type": "markdown",
      "metadata": {
        "id": "XcfffpANyNiu"
      },
      "source": [
        "Check for and handle duplicates."
      ]
    },
    {
      "cell_type": "code",
      "execution_count": null,
      "metadata": {
        "id": "IKaGnWIsiHpH"
      },
      "outputs": [],
      "source": [
        "# Check for duplicates\n",
        "### YOUR CODE HERE ###\n",
        "data.duplicated().sum()"
      ]
    },
    {
      "cell_type": "markdown",
      "metadata": {
        "id": "k-HcHpGc5Hn7"
      },
      "source": [
        "Check for and handle outliers."
      ]
    },
    {
      "cell_type": "code",
      "execution_count": null,
      "metadata": {
        "id": "Ts_lcV6qUQHq"
      },
      "outputs": [],
      "source": [
        "# Create a boxplot to visualize distribution of `video_duration_sec`\n",
        "### YOUR CODE HERE ###\n",
        "\n",
        "plt.figure(figsize=(4,2))\n",
        "plt.title('Boxplot to detect outliers for video_duration_sec', fontsize=12)\n",
        "sns.boxplot(x=data['video_duration_sec'])\n",
        "plt.show()"
      ]
    },
    {
      "cell_type": "code",
      "execution_count": null,
      "metadata": {
        "id": "qlUccI91a4NH"
      },
      "outputs": [],
      "source": [
        "# Create a boxplot to visualize distribution of `video_view_count`\n",
        "### YOUR CODE HERE ###\n",
        "\n",
        "plt.figure(figsize=(4,2))\n",
        "plt.title('Boxplot to detect outliers for video_view_count', fontsize=12)\n",
        "sns.boxplot(x=data['video_view_count'])\n",
        "plt.show()"
      ]
    },
    {
      "cell_type": "code",
      "execution_count": null,
      "metadata": {
        "id": "N0UVdeRUzEEF"
      },
      "outputs": [],
      "source": [
        "# Create a boxplot to visualize distribution of `video_like_count`\n",
        "### YOUR CODE HERE ###\n",
        "plt.figure(figsize=(6,2))\n",
        "plt.title('Boxplot to detect outliers for video_like_count', fontsize=12)\n",
        "sns.boxplot(x=data['video_like_count'])\n",
        "plt.show()\n"
      ]
    },
    {
      "cell_type": "code",
      "execution_count": null,
      "metadata": {
        "id": "-gE1fkGo0eG9"
      },
      "outputs": [],
      "source": [
        "# Create a boxplot to visualize distribution of `video_comment_count`\n",
        "### YOUR CODE HERE ###\n",
        "plt.figure(figsize=(4,2))\n",
        "plt.title('Boxplot to detect outliers for video_comment_count', fontsize=12)\n",
        "sns.boxplot(x=data['video_comment_count'])\n",
        "plt.show()\n"
      ]
    },
    {
      "cell_type": "markdown",
      "metadata": {
        "id": "eDcY0ZaEJgDl"
      },
      "source": [
        "Check class balance."
      ]
    },
    {
      "cell_type": "code",
      "execution_count": null,
      "metadata": {
        "id": "e3klRqlsJhtp"
      },
      "outputs": [],
      "source": [
        "# Check class balance for video_comment_count\n",
        "### YOUR CODE HERE ###\n",
        "data['verified_status'].value_counts()"
      ]
    },
    {
      "cell_type": "markdown",
      "metadata": {
        "id": "ePYWt2p5LqlW"
      },
      "source": [
        "Approximately 94.2% of the dataset represents videos posted by unverified accounts and 5.8% represents videos posted by verified accounts. So the outcome variable is not very balanced."
      ]
    },
    {
      "cell_type": "markdown",
      "metadata": {
        "id": "zRDMuXjbA9KQ"
      },
      "source": [
        "Use resampling to create class balance in the outcome variable, if needed."
      ]
    },
    {
      "cell_type": "code",
      "execution_count": null,
      "metadata": {
        "id": "AWhetFT3Ggyp"
      },
      "outputs": [],
      "source": [
        "# Use resampling to create class balance in the outcome variable, if needed\n",
        "\n",
        "# Identify data points from majority and minority classes\n",
        "data_majority = data[data[\"verified_status\"] == \"not verified\"]\n",
        "data_minority = data[data[\"verified_status\"] == \"verified\"]\n",
        "\n",
        "# Upsample the minority class (which is \"verified\")\n",
        "data_minority_upsampled = resample(data_minority,\n",
        "                                 replace=True,                 # to sample with replacement\n",
        "                                 n_samples=len(data_majority), # to match majority class\n",
        "                                 random_state=0)               # to create reproducible results\n",
        "\n",
        "# Combine majority class with upsampled minority class\n",
        "data_upsampled = pd.concat([data_majority, data_minority_upsampled]).reset_index(drop=True)\n",
        "\n",
        "\n",
        "# Display new class counts\n",
        "print(data_upsampled[\"verified_status\"].value_counts())\n",
        "data_upsampled.shape"
      ]
    },
    {
      "cell_type": "markdown",
      "metadata": {
        "id": "K2RHONw6D3R6"
      },
      "source": [
        "Get the average `video_transcription_text` length for videos posted by verified accounts and the average `video_transcription_text` length for videos posted by unverified accounts.\n",
        "\n"
      ]
    },
    {
      "cell_type": "code",
      "execution_count": null,
      "metadata": {
        "id": "w-aaFCPCD88e"
      },
      "outputs": [],
      "source": [
        "# Get the average `video_transcription_text` length for claims and the average `video_transcription_text` length for opinions\n",
        "### YOUR CODE HERE ###\n",
        "data_upsampled[[\"verified_status\", \"video_transcription_text\"]].groupby(by=\"verified_status\")[[\"video_transcription_text\"]].agg(func=lambda array: np.mean([len(text) for text in array]))\n"
      ]
    },
    {
      "cell_type": "markdown",
      "metadata": {
        "id": "hb_u1c6_T1i-"
      },
      "source": [
        "Extract the length of each `video_transcription_text` and add this as a column to the dataframe, so that it can be used as a potential feature in the model."
      ]
    },
    {
      "cell_type": "code",
      "execution_count": null,
      "metadata": {
        "id": "8Yr9hhhVHeYY"
      },
      "outputs": [],
      "source": [
        "# Create a new column 'text_length' and calculate the length of each string in 'video_transcription_text'\n",
        "data_upsampled['text_length'] = data_upsampled['video_transcription_text'].apply(len)\n"
      ]
    },
    {
      "cell_type": "code",
      "execution_count": null,
      "metadata": {
        "id": "Vzg0J8UEJ1wx"
      },
      "outputs": [],
      "source": [
        "# Display first few rows of dataframe after adding new column\n",
        "### YOUR CODE HERE ###\n",
        "data_upsampled.head()"
      ]
    },
    {
      "cell_type": "markdown",
      "metadata": {
        "id": "LGu7ipi4AJmP"
      },
      "source": [
        "Visualize the distribution of `video_transcription_text` length for videos posted by verified accounts and videos posted by unverified accounts."
      ]
    },
    {
      "cell_type": "code",
      "execution_count": null,
      "metadata": {
        "id": "MSq136S3TIYe"
      },
      "outputs": [],
      "source": [
        "# Visualize the distribution of `video_transcription_text` length for videos posted by verified accounts and videos posted by unverified accounts\n",
        "# Create two histograms in one plot\n",
        "### YOUR CODE HERE ###\n",
        "# Create a 1x2 plot figure.\n",
        "sns.histplot(data=data_upsampled, stat=\"count\", multiple=\"stack\", x=\"text_length\", kde=False, palette=\"pastel\",\n",
        "             hue=\"verified_status\", element=\"bars\", legend=True)\n",
        "plt.xlabel(\"video_transcription_text length (number of characters)\")\n",
        "plt.ylabel(\"Count\")\n",
        "plt.title(\"Distribution of video_transcription_text length for videos posted by verified accounts and unverified accounts\")\n",
        "plt.show()"
      ]
    },
    {
      "cell_type": "markdown",
      "metadata": {
        "id": "KlF7ZNSyW0yV"
      },
      "source": [
        "### **Task 2b. Examine correlations**"
      ]
    },
    {
      "cell_type": "markdown",
      "metadata": {
        "id": "pKkx6FvS4OpI"
      },
      "source": [
        "Next, code a correlation matrix to help determine most correlated variables."
      ]
    },
    {
      "cell_type": "code",
      "execution_count": null,
      "metadata": {
        "id": "KCEzE-gwL5gq"
      },
      "outputs": [],
      "source": [
        "# Code a correlation matrix to help determine most correlated variables\n",
        "### YOUR CODE HERE ###\n",
        "data_upsampled.corr(numeric_only=True)"
      ]
    },
    {
      "cell_type": "markdown",
      "metadata": {
        "id": "6Ldmks6g4ZzE"
      },
      "source": [
        "Visualize a correlation heatmap of the data."
      ]
    },
    {
      "cell_type": "code",
      "execution_count": null,
      "metadata": {
        "id": "8Ti_MFF7tekR"
      },
      "outputs": [],
      "source": [
        "# Create a heatmap to visualize how correlated variables are\n",
        "### YOUR CODE HERE ###\n",
        "plt.figure(figsize=(8, 6))\n",
        "sns.heatmap(data_upsampled.corr(numeric_only=True), annot=True, cmap=\"crest\")\n",
        "plt.title(\"Heatmap of the dataset\")\n",
        "plt.show()"
      ]
    },
    {
      "cell_type": "markdown",
      "metadata": {
        "id": "zyQgcrDI00bT"
      },
      "source": [
        "One of the model assumptions for logistic regression is no severe multicollinearity among the features. Take this into consideration as you examine the heatmap and choose which features to proceed with.\n",
        "\n",
        "**Question:** What variables are shown to be correlated in the heatmap?"
      ]
    },
    {
      "cell_type": "markdown",
      "metadata": {
        "id": "lgPul2DiY6T4"
      },
      "source": [
        "<img src=\"images/Construct.png\" width=\"100\" height=\"100\" align=left>\n",
        "\n",
        "## **PACE: Construct**\n",
        "\n",
        "After analysis and deriving variables with close relationships, it is time to begin constructing the model. Consider the questions in your PACE Strategy Document to reflect on the Construct stage."
      ]
    },
    {
      "cell_type": "markdown",
      "metadata": {
        "id": "07UJJm41ajgf"
      },
      "source": [
        "### **Task 3a. Select variables**"
      ]
    },
    {
      "cell_type": "markdown",
      "metadata": {
        "id": "DxCW0RH_4m3Q"
      },
      "source": [
        "Set your Y and X variables."
      ]
    },
    {
      "cell_type": "markdown",
      "metadata": {
        "id": "WhocrccZBcwx"
      },
      "source": [
        "Select the outcome variable and Select the features."
      ]
    },
    {
      "cell_type": "code",
      "execution_count": null,
      "metadata": {
        "id": "uH6jiQECBgFn"
      },
      "outputs": [],
      "source": [
        "# Select outcome variable\n",
        "### YOUR CODE HERE ###\n",
        "y = data_upsampled[\"verified_status\"]\n",
        "X = data_upsampled.drop(columns=['verified_status'])"
      ]
    },
    {
      "cell_type": "markdown",
      "metadata": {
        "id": "WPxEovpUBZfk"
      },
      "source": [
        "Select the features."
      ]
    },
    {
      "cell_type": "markdown",
      "metadata": {
        "id": "gPIBz0-HDEqd"
      },
      "source": [
        "### **Task 3b. Train-test split**"
      ]
    },
    {
      "cell_type": "markdown",
      "metadata": {
        "id": "5tNw9_y9jmY1"
      },
      "source": [
        "Split the data into training and testing sets."
      ]
    },
    {
      "cell_type": "code",
      "execution_count": null,
      "metadata": {
        "id": "jKgrew0V6o_3"
      },
      "outputs": [],
      "source": [
        "# Split the data into training and testing sets\n",
        "### YOUR CODE HERE ###\n",
        "X_train, X_test, y_train, y_test = train_test_split(X, y, test_size=0.25, random_state=0)"
      ]
    },
    {
      "cell_type": "markdown",
      "metadata": {
        "id": "5VlklzoujrAR"
      },
      "source": [
        "Confirm that the dimensions of the training and testing sets are in alignment."
      ]
    },
    {
      "cell_type": "code",
      "execution_count": null,
      "metadata": {
        "id": "xgbB1NCtfxcc"
      },
      "outputs": [],
      "source": [
        "# Get shape of each training and testing set\n",
        "### YOUR CODE HERE ###\n",
        "X_train.shape, X_test.shape, y_train.shape, y_test.shape"
      ]
    },
    {
      "cell_type": "markdown",
      "metadata": {
        "id": "V7PjlXFuDRp_"
      },
      "source": [
        "### **Task 3c. Encode variables**"
      ]
    },
    {
      "cell_type": "markdown",
      "metadata": {
        "id": "rbpnEjop82zL"
      },
      "source": [
        "Check the data types of the features."
      ]
    },
    {
      "cell_type": "code",
      "execution_count": null,
      "metadata": {
        "id": "TefBRXUu8zWR"
      },
      "outputs": [],
      "source": [
        "# Check data types\n",
        "### YOUR CODE HERE ###\n",
        "y_train.info()"
      ]
    },
    {
      "cell_type": "code",
      "execution_count": null,
      "metadata": {
        "id": "gT1YqFZc-uBF"
      },
      "outputs": [],
      "source": [
        "# Get unique values in `claim_status`\n",
        "### YOUR CODE HERE ###\n",
        "X_train[\"claim_status\"].unique()\n"
      ]
    },
    {
      "cell_type": "code",
      "execution_count": null,
      "metadata": {
        "id": "uSnObsvy-wpz"
      },
      "outputs": [],
      "source": [
        "# Get unique values in `author_ban_status`\n",
        "### YOUR CODE HERE ###\n",
        "X_train[\"author_ban_status\"].unique()"
      ]
    },
    {
      "cell_type": "markdown",
      "metadata": {
        "id": "PKSSWs39xYWH"
      },
      "source": [
        "As shown above, the `claim_status` and `author_ban_status` features are each of data type `object` currently. In order to work with the implementations of models through `sklearn`, these categorical features will need to be made numeric. One way to do this is through one-hot encoding.\n"
      ]
    },
    {
      "cell_type": "code",
      "execution_count": null,
      "metadata": {
        "id": "mlMTSyaTcBct"
      },
      "outputs": [],
      "source": [
        "# Select the training features that needs to be encoded\n",
        "X_train1=X_train\n",
        "encoded_x_train = pd.get_dummies(X_train1, columns=['claim_status', 'author_ban_status'])\n",
        "\n",
        "# Display first few rows\n",
        "encoded_x_train.head()"
      ]
    },
    {
      "cell_type": "code",
      "execution_count": null,
      "metadata": {
        "id": "qKG1TK-KEfuB"
      },
      "outputs": [],
      "source": [
        "encoded_x_train.drop(columns=['video_transcription_text'], inplace=True)\n",
        "\n",
        "# Display first few rows\n",
        "encoded_x_train.head()"
      ]
    },
    {
      "cell_type": "markdown",
      "metadata": {
        "id": "9ZHZcDR_fY-D"
      },
      "source": [
        "Check the data type of the outcome variable."
      ]
    },
    {
      "cell_type": "code",
      "execution_count": null,
      "metadata": {
        "id": "23VVtIeD9fet"
      },
      "outputs": [],
      "source": [
        "# Get unique values of outcome variable\n",
        "### YOUR CODE HERE ###\n",
        "y_train.unique()\n"
      ]
    },
    {
      "cell_type": "markdown",
      "metadata": {
        "id": "YBUb24WDyAiA"
      },
      "source": [
        "A shown above, the outcome variable is of data type `object` currently. One-hot encoding can be used to make this variable numeric.\n",
        "\n",
        "Encode categorical values of the outcome variable the training set using an appropriate method."
      ]
    },
    {
      "cell_type": "code",
      "source": [
        "y_train.head()"
      ],
      "metadata": {
        "id": "pdMstc9In8IY"
      },
      "execution_count": null,
      "outputs": []
    },
    {
      "cell_type": "code",
      "source": [
        "\n",
        "\n",
        "# Initialize LabelEncoder\n",
        "label_encoder = LabelEncoder()\n",
        "\n",
        "# Fit LabelEncoder on the target Series and transform categorical values to numerical values\n",
        "encoded_y_train = label_encoder.fit_transform(y_train)\n",
        "\n",
        "encoded_y_train"
      ],
      "metadata": {
        "id": "bhS2rxl4kcWO"
      },
      "execution_count": null,
      "outputs": []
    },
    {
      "cell_type": "markdown",
      "source": [],
      "metadata": {
        "id": "msdgCr77VBIl"
      }
    },
    {
      "cell_type": "markdown",
      "metadata": {
        "id": "iDYyjWssbnBG"
      },
      "source": [
        "### **Task 3d. Model building**"
      ]
    },
    {
      "cell_type": "markdown",
      "metadata": {
        "id": "ty8ieBkDBH4g"
      },
      "source": [
        "Construct a model and fit it to the training set."
      ]
    },
    {
      "cell_type": "code",
      "execution_count": null,
      "metadata": {
        "id": "sNcke2SNvZrN"
      },
      "outputs": [],
      "source": [
        "# Construct a logistic regression model and fit it to the training set\n",
        "### YOUR CODE HERE ###\n",
        "log_clf = LogisticRegression(random_state=0, max_iter=800).fit(encoded_x_train, encoded_y_train)\n"
      ]
    },
    {
      "cell_type": "markdown",
      "metadata": {
        "id": "cp7ojoBldEYy"
      },
      "source": [
        "<img src=\"images/Execute.png\" width=\"100\" height=\"100\" align=left>\n",
        "\n",
        "## **PACE: Execute**\n",
        "\n",
        "Consider the questions in your PACE Strategy Document to reflect on the Execute stage."
      ]
    },
    {
      "cell_type": "markdown",
      "metadata": {
        "id": "F_l3bkxQdJ3a"
      },
      "source": [
        "### **Taks 4a. Results and evaluation**\n",
        "\n",
        "Evaluate your model."
      ]
    },
    {
      "cell_type": "markdown",
      "metadata": {
        "id": "bxnKPq6dIUOB"
      },
      "source": [
        "Encode categorical features in the testing set using an appropriate method."
      ]
    },
    {
      "cell_type": "code",
      "execution_count": null,
      "metadata": {
        "id": "x-bNI_2_Lp_2"
      },
      "outputs": [],
      "source": [
        "# Select the training features that needs to be encoded\n",
        "X_test1=X_test\n",
        "encoded_x_test = pd.get_dummies(X_test1, columns=['claim_status', 'author_ban_status'])\n",
        "encoded_x_test.drop(columns=['video_transcription_text'], inplace=True)\n",
        "\n",
        "\n",
        "# Display first few rows\n",
        "encoded_x_test.head()"
      ]
    },
    {
      "cell_type": "markdown",
      "metadata": {
        "id": "gM9egturW1eX"
      },
      "source": [
        "Test the logistic regression model. Use the model to make predictions on the encoded testing set."
      ]
    },
    {
      "cell_type": "code",
      "execution_count": null,
      "metadata": {
        "id": "NZQbthy93bWM"
      },
      "outputs": [],
      "source": [
        "# Use the logistic regression model to get predictions on the encoded testing set\n",
        "### YOUR CODE HERE ###\n",
        "y_pred = log_clf.predict(encoded_x_test)"
      ]
    },
    {
      "cell_type": "markdown",
      "metadata": {
        "id": "HNjDzuqmYU0G"
      },
      "source": [
        "Display the predictions on the encoded testing set."
      ]
    },
    {
      "cell_type": "code",
      "execution_count": null,
      "metadata": {
        "id": "tyKjLA_gYUYZ"
      },
      "outputs": [],
      "source": [
        "# Display the predictions on the encoded testing set\n",
        "### YOUR CODE HERE ###\n",
        "y_pred"
      ]
    },
    {
      "cell_type": "markdown",
      "metadata": {
        "id": "iXDp4m9dYlN3"
      },
      "source": [
        "Display the true labels of the testing set."
      ]
    },
    {
      "cell_type": "code",
      "execution_count": null,
      "metadata": {
        "id": "JymZrHVDYdvu"
      },
      "outputs": [],
      "source": [
        "# Display the true labels of the testing set\n",
        "### YOUR CODE HERE ###\n",
        "y_test"
      ]
    },
    {
      "cell_type": "markdown",
      "metadata": {
        "id": "WM-HHIInem3Z"
      },
      "source": [
        "Encode the true labels of the testing set so it can be compared to the predictions."
      ]
    },
    {
      "cell_type": "code",
      "execution_count": null,
      "metadata": {
        "id": "KNnYVZnjfJfz"
      },
      "outputs": [],
      "source": [
        "\n",
        "\n",
        "# Initialize LabelEncoder\n",
        "label_encoder = LabelEncoder()\n",
        "\n",
        "# Fit LabelEncoder on the target Series and transform categorical values to numerical values\n",
        "encoded_y_test = label_encoder.fit_transform(y_test)\n",
        "\n",
        "encoded_y_test"
      ]
    },
    {
      "cell_type": "markdown",
      "metadata": {
        "id": "IzdbI4A4mmHA"
      },
      "source": [
        "Confirm again that the dimensions of the training and testing sets are in alignment since additional features were added."
      ]
    },
    {
      "cell_type": "code",
      "execution_count": null,
      "metadata": {
        "id": "WbbI5cSfmmHA"
      },
      "outputs": [],
      "source": [
        "# Get shape of each training and testing set\n",
        "### YOUR CODE HERE ###\n",
        "encoded_x_train.shape, encoded_y_train.shape, encoded_x_test.shape, encoded_y_test.shape"
      ]
    },
    {
      "cell_type": "markdown",
      "metadata": {
        "id": "IMQltTaQFnwv"
      },
      "source": [
        "### **Task 4b. Visualize model results**"
      ]
    },
    {
      "cell_type": "markdown",
      "metadata": {
        "id": "VVMG0ubSXQvS"
      },
      "source": [
        "Create a confusion matrix to visualize the results of the logistic regression model."
      ]
    },
    {
      "cell_type": "code",
      "execution_count": null,
      "metadata": {
        "id": "ZPgiHdlyZCTf"
      },
      "outputs": [],
      "source": [
        "# Compute values for confusion matrix\n",
        "log_cm = confusion_matrix(encoded_y_test, y_pred, labels=log_clf.classes_)\n",
        "\n",
        "# Create display of confusion matrix\n",
        "log_disp = ConfusionMatrixDisplay(confusion_matrix=log_cm, display_labels=log_clf.classes_)\n",
        "\n",
        "# Plot confusion matrix\n",
        "log_disp.plot()\n",
        "\n",
        "# Display plot\n",
        "plt.show()"
      ]
    },
    {
      "cell_type": "markdown",
      "metadata": {
        "id": "I6OmnATfbtNd"
      },
      "source": [
        "Create a classification report that includes precision, recall, f1-score, and accuracy metrics to evaluate the performance of the logistic regression model."
      ]
    },
    {
      "cell_type": "code",
      "execution_count": null,
      "metadata": {
        "id": "AMxCzRa-bnUe"
      },
      "outputs": [],
      "source": [
        "# Create classification report for logistic regression model\n",
        "target_labels = [\"verified\", \"not verified\"]\n",
        "print(classification_report(encoded_y_test, y_pred, target_names=target_labels))"
      ]
    },
    {
      "cell_type": "markdown",
      "metadata": {
        "id": "IFY_y19EKQoO"
      },
      "source": [
        "### **Task 4c. Interpret model coefficients**"
      ]
    },
    {
      "cell_type": "code",
      "execution_count": null,
      "metadata": {
        "id": "6TmRk8tz4JpG"
      },
      "outputs": [],
      "source": [
        "# Get the feature names from the model and the model coefficients (which represent log-odds ratios)\n",
        "# Place into a DataFrame for readability\n",
        "pd.DataFrame(data={\"Feature Name\":log_clf.feature_names_in_, \"Model Coefficient\":log_clf.coef_[0]})"
      ]
    },
    {
      "cell_type": "markdown",
      "metadata": {
        "id": "P6AlDDyhdzmG"
      },
      "source": [
        "### **Task 4d. Conclusion**\n",
        "\n",
        "1. What are the key takeaways from this project?\n",
        "\n",
        "2. What results can be presented from this project?"
      ]
    },
    {
      "cell_type": "markdown",
      "metadata": {
        "id": "BzqJ13WAnt4R"
      },
      "source": [
        "Key takeaways:\n",
        "\n",
        "- The dataset has a few strongly correlated variables, which might lead to breaking the \"no multicollinearity\" assumption when fitting a logistic regression model. We decided to drop `video_like_count` from the model building.\n",
        "- Based on the logistic regression model, each additional second of the video is associated with 0.009 increase in the log-odds of the user having a verified status.\n",
        "- The logistic regression model had not great, but acceptable predictive power: a precision of 61% is less than ideal, but a recall of 84% is very good. Overall accuracy is towards the lower end of what would typically be considered acceptable.\n",
        "\n",
        "\n",
        "We developed a logistic regression model for verified status based on video features. The model had decent predictive power. Based on the estimated model coefficients from the logistic regression, longer videos tend to be associated with higher odds of the user being verified. Other video features have small estimated coefficients in the model, so their association with verified status seems to be minor."
      ]
    },
    {
      "cell_type": "markdown",
      "metadata": {
        "id": "6Y_pk7oZoXq8"
      },
      "source": [
        "**Congratulations!** You've completed this lab. However, you may not notice a green check mark next to this item on Coursera's platform. Please continue your progress regardless of the check mark. Just click on the \"save\" icon at the top of this notebook to ensure your work has been logged."
      ]
    }
  ],
  "metadata": {
    "colab": {
      "provenance": []
    },
    "kernelspec": {
      "display_name": "Python 3 (ipykernel)",
      "language": "python",
      "name": "python3"
    },
    "language_info": {
      "codemirror_mode": {
        "name": "ipython",
        "version": 3
      },
      "file_extension": ".py",
      "mimetype": "text/x-python",
      "name": "python",
      "nbconvert_exporter": "python",
      "pygments_lexer": "ipython3",
      "version": "3.11.4"
    }
  },
  "nbformat": 4,
  "nbformat_minor": 0
}